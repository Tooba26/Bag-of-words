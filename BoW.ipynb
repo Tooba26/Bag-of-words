{
 "cells": [
  {
   "cell_type": "code",
   "execution_count": null,
   "id": "a2280e38",
   "metadata": {},
   "outputs": [],
   "source": [
    "import nltk\n",
    "from nltk.corpus import stopwords\n",
    "from nltk.tokenize import word_tokenize\n",
    "import re\n",
    "from collections import defaultdict"
   ]
  },
  {
   "cell_type": "markdown",
   "id": "d1fd1424",
   "metadata": {},
   "source": [
    "## Data Preprocessing\n",
    "- tokenization: Breaking down a piece of text into smaller units\n",
    "- Removing Stopwords: common words in English such as \"the\", \"that\", \"a\" "
   ]
  },
  {
   "cell_type": "code",
   "execution_count": 2,
   "id": "0cc45a54",
   "metadata": {},
   "outputs": [
    {
     "name": "stderr",
     "output_type": "stream",
     "text": [
      "[nltk_data] Downloading package punkt to\n",
      "[nltk_data]     C:\\Users\\acer\\AppData\\Roaming\\nltk_data...\n",
      "[nltk_data]   Package punkt is already up-to-date!\n",
      "[nltk_data] Downloading package stopwords to\n",
      "[nltk_data]     C:\\Users\\acer\\AppData\\Roaming\\nltk_data...\n",
      "[nltk_data]   Unzipping corpora\\stopwords.zip.\n"
     ]
    },
    {
     "data": {
      "text/plain": [
       "True"
      ]
     },
     "execution_count": 2,
     "metadata": {},
     "output_type": "execute_result"
    }
   ],
   "source": [
    "nltk.download(\"punkt\")\n",
    "nltk.download(\"stopwords\")"
   ]
  },
  {
   "cell_type": "code",
   "execution_count": 8,
   "id": "5bca97a8",
   "metadata": {},
   "outputs": [],
   "source": [
    "# Sentence\n",
    "sentence = \"The crazy brown fox jummps over the lazy dog.\"\n"
   ]
  },
  {
   "cell_type": "code",
   "execution_count": 9,
   "id": "d35aaed5",
   "metadata": {},
   "outputs": [],
   "source": [
    "# Tokenize\n",
    "words = word_tokenize(sentence)"
   ]
  },
  {
   "cell_type": "code",
   "execution_count": 10,
   "id": "a2d2b27e",
   "metadata": {},
   "outputs": [],
   "source": [
    "# Get the list of stopwords in English\n",
    "stop_words = set(stopwords.words(\"english\"))"
   ]
  },
  {
   "cell_type": "code",
   "execution_count": 11,
   "id": "6fb5d087",
   "metadata": {},
   "outputs": [],
   "source": [
    "# Remove stopwords from the tokenized words\n",
    "filtered_sentence = [word for word in words if word.lower() not in stop_words]"
   ]
  },
  {
   "cell_type": "code",
   "execution_count": 12,
   "id": "484ccbcb",
   "metadata": {},
   "outputs": [
    {
     "name": "stdout",
     "output_type": "stream",
     "text": [
      "Original Sentence:  The crazy brown fox jummps over the lazy dog.\n",
      "Filtered Sentence:  crazy brown fox jummps lazy dog .\n"
     ]
    }
   ],
   "source": [
    "filtered_sentence = \" \".join(filtered_sentence)\n",
    "print(\"Original Sentence: \", sentence)\n",
    "print(\"Filtered Sentence: \", filtered_sentence)"
   ]
  },
  {
   "cell_type": "markdown",
   "id": "7defa59f",
   "metadata": {},
   "source": [
    "## Creating a Vocabulary\n",
    "- Collection of unique words in a corpus of text"
   ]
  },
  {
   "cell_type": "code",
   "execution_count": 13,
   "id": "5963da10",
   "metadata": {},
   "outputs": [],
   "source": [
    "corpus = [\n",
    "    \"tokeize the words in this sentence\",\n",
    "    \"remove the stopwords from the sentence\",\n",
    "    \"this is a sample sentence\",\n",
    "    \"this is another example\",\n",
    "    \"this is a test sentence\",\n",
    "    \"NLP is fun\",\n",
    "    \"I love programming\",\n",
    "    \"Python is great\",\n",
    "    \"tokenization is the process of breaking down text into smaller pieces\",\n",
    "    \"stopwords are common words that are usually ignored in text processing\",\n",
    "]"
   ]
  },
  {
   "cell_type": "code",
   "execution_count": 16,
   "id": "8f19f262",
   "metadata": {},
   "outputs": [
    {
     "name": "stdout",
     "output_type": "stream",
     "text": [
      "Vocabulary:  {'is': 6, 'the': 4, 'this': 4, 'sentence': 4, 'words': 2, 'in': 2, 'stopwords': 2, 'a': 2, 'text': 2, 'are': 2, 'tokeize': 1, 'remove': 1, 'from': 1, 'sample': 1, 'another': 1, 'example': 1, 'test': 1, 'nlp': 1, 'fun': 1, 'i': 1, 'love': 1, 'programming': 1, 'python': 1, 'great': 1, 'tokenization': 1, 'process': 1, 'of': 1, 'breaking': 1, 'down': 1, 'into': 1, 'smaller': 1, 'pieces': 1, 'common': 1, 'that': 1, 'usually': 1, 'ignored': 1, 'processing': 1}\n"
     ]
    }
   ],
   "source": [
    "# Initialize a defualtdict with integer values to store word frequencies\n",
    "\n",
    "#  defaultdict(int) initializes each new key with a default integer value of 0\n",
    "vocab = defaultdict(int)\n",
    "\n",
    "# Loop through each sentence in the corpus to tokenize and normalize\n",
    "for sentence in corpus:\n",
    "    words = re.findall(r\"\\w+\", sentence.lower())  # Tokenize and normalize to lowercase\n",
    "    for word in words:\n",
    "        vocab[word]+=1\n",
    "\n",
    "# covert the defaultdict to a regulate dictionary for easier handling and sorting\n",
    "sorted_vocab = dict(sorted(vocab.items(), key=lambda x: x[1], reverse=True))\n",
    "\n",
    "print(\"Vocabulary: \", sorted_vocab)"
   ]
  },
  {
   "cell_type": "markdown",
   "id": "4d851d87",
   "metadata": {},
   "source": [
    "# Bag of Words Implementation"
   ]
  },
  {
   "cell_type": "code",
   "execution_count": 17,
   "id": "883e5174",
   "metadata": {},
   "outputs": [],
   "source": [
    "import string"
   ]
  },
  {
   "cell_type": "code",
   "execution_count": 18,
   "id": "9631b90a",
   "metadata": {},
   "outputs": [],
   "source": [
    "corpus = [\n",
    "    \"tokeize the words in this sentence\",\n",
    "    \"remove the stopwords from the sentence\",\n",
    "    \"this is a sample sentence\",\n",
    "    \"this is another example\",\n",
    "    \"this is a test sentence\",\n",
    "    \"NLP is fun\",\n",
    "    \"I love programming\",\n",
    "    \"Python is great\",\n",
    "    \"tokenization is the process of breaking down text into smaller pieces\",\n",
    "    \"stopwords are common words that are usually ignored in text processing\",\n",
    "]"
   ]
  },
  {
   "cell_type": "code",
   "execution_count": 19,
   "id": "bb109a17",
   "metadata": {},
   "outputs": [],
   "source": [
    "#  function to preprocess the text\n",
    "def preprocess_text(text):\n",
    "    # Convert to lowercase\n",
    "    text = text.lower()\n",
    "\n",
    "    # Remove punctuation\n",
    "    text = text.translate(str.maketrans(\"\", \"\", string.punctuation))\n",
    "\n",
    "    # Split the text into words\n",
    "    tokens = text.split()\n",
    "\n",
    "    return tokens"
   ]
  },
  {
   "cell_type": "code",
   "execution_count": 20,
   "id": "d28b87f3",
   "metadata": {},
   "outputs": [
    {
     "name": "stdout",
     "output_type": "stream",
     "text": [
      "Processed Corpus:  [['tokeize', 'the', 'words', 'in', 'this', 'sentence'], ['remove', 'the', 'stopwords', 'from', 'the', 'sentence'], ['this', 'is', 'a', 'sample', 'sentence'], ['this', 'is', 'another', 'example'], ['this', 'is', 'a', 'test', 'sentence'], ['nlp', 'is', 'fun'], ['i', 'love', 'programming'], ['python', 'is', 'great'], ['tokenization', 'is', 'the', 'process', 'of', 'breaking', 'down', 'text', 'into', 'smaller', 'pieces'], ['stopwords', 'are', 'common', 'words', 'that', 'are', 'usually', 'ignored', 'in', 'text', 'processing']]\n"
     ]
    }
   ],
   "source": [
    "# Applying the preprocessing to the sample corpus\n",
    "processed_corpus = [preprocess_text(sentence) for sentence in corpus]\n",
    "print(\"Processed Corpus: \", processed_corpus)"
   ]
  },
  {
   "cell_type": "code",
   "execution_count": null,
   "id": "c5fd02b1",
   "metadata": {},
   "outputs": [],
   "source": []
  }
 ],
 "metadata": {
  "kernelspec": {
   "display_name": "Python 3",
   "language": "python",
   "name": "python3"
  },
  "language_info": {
   "codemirror_mode": {
    "name": "ipython",
    "version": 3
   },
   "file_extension": ".py",
   "mimetype": "text/x-python",
   "name": "python",
   "nbconvert_exporter": "python",
   "pygments_lexer": "ipython3",
   "version": "3.12.5"
  }
 },
 "nbformat": 4,
 "nbformat_minor": 5
}
